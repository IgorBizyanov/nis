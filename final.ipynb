{
 "cells": [
  {
   "cell_type": "code",
   "execution_count": 1,
   "metadata": {},
   "outputs": [],
   "source": [
    "from pyAudioAnalysis import audioBasicIO\n",
    "from pyAudioAnalysis import audioFeatureExtraction\n",
    "from pyAudioAnalysis import audioTrainTest as aT\n",
    "from pyAudioAnalysis.audioSegmentation import silenceRemoval\n",
    "\n",
    "import numpy as np\n",
    "\n",
    "from sklearn.model_selection import train_test_split\n",
    "from sklearn.linear_model import LogisticRegression\n",
    "from sklearn.neighbors import KNeighborsClassifier as KNC\n",
    "\n",
    "import os"
   ]
  },
  {
   "cell_type": "code",
   "execution_count": 2,
   "metadata": {},
   "outputs": [
    {
     "name": "stdout",
     "output_type": "stream",
     "text": [
      "traindataset/mgn_ru_0195.wav\n",
      "2454\n"
     ]
    }
   ],
   "source": [
    "A = 0   #feature index from \n",
    "B = 20  #feature index to \n",
    "\n",
    "win_coef  = 0.02  #coef for the short-term window size (in samples)\n",
    "step_coef = 0.03 #coef for the short-term window step (in samples)\n",
    "\n",
    "lst = os.listdir(\"traindataset\")\n",
    "names = []\n",
    "for i in lst:\n",
    "    names.append(\"traindataset/\" + i)\n",
    "names[:10]\n",
    "len(names)\n",
    "print(names[1])\n",
    "print(len(names))"
   ]
  },
  {
   "cell_type": "code",
   "execution_count": 3,
   "metadata": {},
   "outputs": [],
   "source": [
    "def getClearFramesAndClassForOneAudio(filename):\n",
    "    [fs, x] = audioBasicIO.readAudioFile(filename)\n",
    "    #print(fs, x)\n",
    "    F, names = audioFeatureExtraction.stFeatureExtraction(x, fs, win_coef*fs, step_coef*fs)\n",
    "    filtered_frames_indeces = silenceRemoval(x, fs, win_coef,  step_coef)\n",
    "    \n",
    "    currentClass = filename[13:16]\n",
    "    classlist = []\n",
    "    clearFrames = np.array([[0]*B])\n",
    "    for i in filtered_frames_indeces:       \n",
    "        clearFrames = np.vstack([clearFrames, F[:,i][:B]])\n",
    "        classlist.append(currentClass)\n",
    "    clearFrames = np.delete(clearFrames, 0, 0)\n",
    "    return clearFrames, classlist\n",
    "    "
   ]
  },
  {
   "cell_type": "code",
   "execution_count": 4,
   "metadata": {},
   "outputs": [],
   "source": [
    "allAudiosClearFrames = np.array([[0]*B])\n",
    "allAudiosClasses = []\n",
    "for n in names:\n",
    "    cf, names = getClearFramesAndClassForOneAudio(n)\n",
    "    allAudiosClearFrames = np.vstack([allAudiosClearFrames, cf])\n",
    "    allAudiosClasses = allAudiosClasses + names\n",
    "    \n",
    "allAudiosClearFrames = np.delete(allAudiosClearFrames, 0, 0)\n"
   ]
  },
  {
   "cell_type": "code",
   "execution_count": 5,
   "metadata": {},
   "outputs": [
    {
     "name": "stdout",
     "output_type": "stream",
     "text": [
      "0.6979621425694724\n"
     ]
    }
   ],
   "source": [
    "X_train, X_test, y_train, y_test = train_test_split(allAudiosClearFrames, allAudiosClasses, \n",
    "                                                    test_size=0.25, random_state=20)\n",
    "knntest = KNC(n_neighbors=21, n_jobs=-1)\n",
    "knntest.fit(X_train, y_train)\n",
    "print(knntest.score(X_test, y_test))"
   ]
  },
  {
   "cell_type": "code",
   "execution_count": null,
   "metadata": {},
   "outputs": [],
   "source": [
    "from sklearn.externals import joblib \n",
    "  \n",
    "# Save the model as a pickle in a file \n",
    "joblib.dump(knntest, 'knntest.pkl') "
   ]
  },
  {
   "cell_type": "code",
   "execution_count": 46,
   "metadata": {},
   "outputs": [],
   "source": [
    "def most_frequent(List): \n",
    "    return max(set(List), key = List.count)"
   ]
  },
  {
   "cell_type": "code",
   "execution_count": 7,
   "metadata": {},
   "outputs": [
    {
     "name": "stdout",
     "output_type": "stream",
     "text": [
      "for 1\n",
      "is 0.6355859846959323\n",
      "for 3\n",
      "is 0.6570761175996778\n",
      "for 5\n",
      "is 0.6824164317358035\n",
      "for 7\n",
      "is 0.6908095046314942\n",
      "for 9\n",
      "is 0.6957229158276279\n",
      "for 11\n",
      "is 0.6973016512283527\n",
      "for 13\n",
      "is 0.6995086588803866\n",
      "for 15\n",
      "is 0.6989448248086991\n",
      "for 17\n",
      "is 0.6992347966169956\n",
      "for 19\n",
      "is 0.6989448248086991\n",
      "for 21\n",
      "is 0.6979621425694724\n",
      "for 23\n",
      "is 0.6981071284736207\n",
      "for 25\n",
      "is 0.6975916230366492\n"
     ]
    }
   ],
   "source": [
    "RES = np.array([])\n",
    "for i in range(1, 27, 2):\n",
    "    knntest = KNC(n_neighbors=i, n_jobs=-1)\n",
    "    knntest.fit(X_train, y_train)\n",
    "    r = knntest.score(X_test, y_test)\n",
    "    RES = np.append(RES, r)\n",
    "    print('for {}'.format(i), sep=' ')\n",
    "    print('is {}'.format(r))"
   ]
  },
  {
   "cell_type": "code",
   "execution_count": 8,
   "metadata": {},
   "outputs": [
    {
     "data": {
      "text/plain": [
       "array([0.63558598, 0.65707612, 0.68241643, 0.6908095 , 0.69572292,\n",
       "       0.69730165, 0.69950866, 0.69894482, 0.6992348 , 0.69894482,\n",
       "       0.69796214, 0.69810713, 0.69759162])"
      ]
     },
     "execution_count": 8,
     "metadata": {},
     "output_type": "execute_result"
    }
   ],
   "source": [
    "RES"
   ]
  },
  {
   "cell_type": "code",
   "execution_count": 12,
   "metadata": {},
   "outputs": [
    {
     "data": {
      "image/png": "[encoded data removed]",
      "text/plain": [
       "<Figure size 432x288 with 1 Axes>"
      ]
     },
     "metadata": {
      "needs_background": "light"
     },
     "output_type": "display_data"
    }
   ],
   "source": [
    "import matplotlib.pyplot as plt\n",
    "plt.plot([i for i in range(1, 27, 2)], [RES[i]*100 for i in range(13)])\n",
    "plt.xlabel('Number of neighbors'); plt.ylabel('Quality (%)')\n",
    "plt.show()"
   ]
  },
  {
   "cell_type": "code",
   "execution_count": null,
   "metadata": {},
   "outputs": [],
   "source": []
  }
 ],
 "metadata": {
  "kernelspec": {
   "display_name": "Python 3",
   "language": "python",
   "name": "python3"
  },
  "language_info": {
   "codemirror_mode": {
    "name": "ipython",
    "version": 3
   },
   "file_extension": ".py",
   "mimetype": "text/x-python",
   "name": "python",
   "nbconvert_exporter": "python",
   "pygments_lexer": "ipython3",
   "version": "3.6.7"
  }
 },
 "nbformat": 4,
 "nbformat_minor": 2
}
