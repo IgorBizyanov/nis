{
 "cells": [
  {
   "cell_type": "code",
   "execution_count": 1,
   "metadata": {},
   "outputs": [],
   "source": [
    "from pyAudioAnalysis import audioBasicIO\n",
    "from pyAudioAnalysis import audioFeatureExtraction\n",
    "from pyAudioAnalysis import audioTrainTest as aT\n",
    "from pyAudioAnalysis.audioSegmentation import silenceRemoval\n",
    "\n",
    "import matplotlib.pyplot as plt\n",
    "import numpy as np\n",
    "\n",
    "#from sklearn.linear_model import LogisticRegression\n",
    "from sklearn.neighbors import KNeighborsClassifier as KNC"
   ]
  },
  {
   "cell_type": "code",
   "execution_count": 6,
   "metadata": {},
   "outputs": [
    {
     "name": "stdout",
     "output_type": "stream",
     "text": [
      "newyear\n"
     ]
    }
   ],
   "source": [
    "A = 0   #feature index from \n",
    "B = 20  #feature index to \n",
    "\n",
    "win_coef  = 0.01  #coef the short-term window size (in samples)\n",
    "step_coef = 0.005 #coef the short-term window step (in samples)\n",
    "audios = [\"nekitdir/nekit3secs.wav\", \"medir/me1.wav\", \"umdir/um3secs.wav\", \"newyeardir/newyear3secs.wav\"]\n"
   ]
  },
  {
   "cell_type": "code",
   "execution_count": 35,
   "metadata": {},
   "outputs": [],
   "source": [
    "#returns two lists  \n",
    "def getFeaturesAndClass(file_name, feature_index_from, feature_index_to):\n",
    "    allfeatures = [] #list of lists of numbers\n",
    "    classes  = [] #list of strings\n",
    "    \n",
    "    ind = file_name.find('dir')\n",
    "    if ind < 0:\n",
    "        ind = 5\n",
    "        \n",
    "    currentClassName = file_name[:ind]\n",
    "        \n",
    "    [fs, x] = audioBasicIO.readAudioFile(file_name)\n",
    "    ftrs_matrix, _ = audioFeatureExtraction.stFeatureExtraction(x, fs, win_coef*fs, step_coef*fs)\n",
    "    filtered_frames_indeces = silenceRemoval(x, fs, win_coef,  step_coef) #indeces of frames without silence\n",
    "        \n",
    "    for i in filtered_frames_indeces:\n",
    "            allfeatures.append(ftrs_matrix[:,i][feature_index_from:feature_index_to])\n",
    "            classes.append(currentClassName)\n",
    "            \n",
    "    return np.array(allfeatures), classes\n",
    "            "
   ]
  },
  {
   "cell_type": "code",
   "execution_count": 45,
   "metadata": {},
   "outputs": [
    {
     "name": "stdout",
     "output_type": "stream",
     "text": [
      "(340, 20)\n",
      "me\n"
     ]
    }
   ],
   "source": [
    "ft, cl = getFeaturesAndClass(audios[1], A, B)\n",
    "print(ft.shape)\n",
    "print(cl[99])"
   ]
  },
  {
   "cell_type": "code",
   "execution_count": 98,
   "metadata": {},
   "outputs": [
    {
     "name": "stdout",
     "output_type": "stream",
     "text": [
      "allObjectsFeatures shape: (1, 0)\n",
      "Ftemp shape: (524, 20)\n"
     ]
    },
    {
     "ename": "ValueError",
     "evalue": "all the input array dimensions except for the concatenation axis must match exactly",
     "output_type": "error",
     "traceback": [
      "\u001b[0;31m---------------------------------------------------------------------------\u001b[0m",
      "\u001b[0;31mValueError\u001b[0m                                Traceback (most recent call last)",
      "\u001b[0;32m<ipython-input-98-a987756b34d9>\u001b[0m in \u001b[0;36m<module>\u001b[0;34m\u001b[0m\n\u001b[1;32m      9\u001b[0m     \u001b[0mallObjectClasses\u001b[0m \u001b[0;34m=\u001b[0m \u001b[0mallObjectClasses\u001b[0m \u001b[0;34m+\u001b[0m \u001b[0mCtemp\u001b[0m\u001b[0;34m\u001b[0m\u001b[0;34m\u001b[0m\u001b[0m\n\u001b[1;32m     10\u001b[0m     \u001b[0;31m#allObjectsFeatures = np.append(allObjectsFeatures, )\u001b[0m\u001b[0;34m\u001b[0m\u001b[0;34m\u001b[0m\u001b[0;34m\u001b[0m\u001b[0m\n\u001b[0;32m---> 11\u001b[0;31m     \u001b[0mallObjectsFeatures\u001b[0m \u001b[0;34m=\u001b[0m \u001b[0mnp\u001b[0m\u001b[0;34m.\u001b[0m\u001b[0mconcatenate\u001b[0m\u001b[0;34m(\u001b[0m\u001b[0;34m[\u001b[0m\u001b[0mallObjectsFeatures\u001b[0m\u001b[0;34m,\u001b[0m \u001b[0mFtemp\u001b[0m\u001b[0;34m]\u001b[0m\u001b[0;34m)\u001b[0m\u001b[0;34m\u001b[0m\u001b[0;34m\u001b[0m\u001b[0m\n\u001b[0m\u001b[1;32m     12\u001b[0m \u001b[0;34m\u001b[0m\u001b[0m\n\u001b[1;32m     13\u001b[0m \u001b[0mprint\u001b[0m\u001b[0;34m(\u001b[0m\u001b[0mlen\u001b[0m\u001b[0;34m(\u001b[0m\u001b[0mallObjectClasses\u001b[0m\u001b[0;34m)\u001b[0m\u001b[0;34m)\u001b[0m\u001b[0;34m\u001b[0m\u001b[0;34m\u001b[0m\u001b[0m\n",
      "\u001b[0;31mValueError\u001b[0m: all the input array dimensions except for the concatenation axis must match exactly"
     ]
    }
   ],
   "source": [
    "allObjectsFeatures = np.array([[]])\n",
    "allObjectClasses  = []\n",
    "\n",
    "print('allObjectsFeatures shape: {}'.format(allObjectsFeatures.shape))\n",
    "\n",
    "for a in audios:\n",
    "    Ftemp, Ctemp = getFeaturesAndClass(a, A, B)\n",
    "    print('Ftemp shape: {}'.format(Ftemp.shape))\n",
    "    allObjectClasses = allObjectClasses + Ctemp\n",
    "    #allObjectsFeatures = np.append(allObjectsFeatures, )\n",
    "    allObjectsFeatures = np.concatenate([allObjectsFeatures, Ftemp])\n",
    "\n",
    "print(len(allObjectClasses))\n"
   ]
  },
  {
   "cell_type": "code",
   "execution_count": 95,
   "metadata": {},
   "outputs": [
    {
     "name": "stdout",
     "output_type": "stream",
     "text": [
      "4\n"
     ]
    }
   ],
   "source": [
    "print(len(allObjectsFeatures))"
   ]
  }
 ],
 "metadata": {
  "kernelspec": {
   "display_name": "Python 3",
   "language": "python",
   "name": "python3"
  },
  "language_info": {
   "codemirror_mode": {
    "name": "ipython",
    "version": 3
   },
   "file_extension": ".py",
   "mimetype": "text/x-python",
   "name": "python",
   "nbconvert_exporter": "python",
   "pygments_lexer": "ipython3",
   "version": "3.6.7"
  }
 },
 "nbformat": 4,
 "nbformat_minor": 2
}
